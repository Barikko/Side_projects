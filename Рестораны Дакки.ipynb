{
  "nbformat": 4,
  "nbformat_minor": 0,
  "metadata": {
    "colab": {
      "provenance": [],
      "authorship_tag": "ABX9TyMUcuoJv3qXhQ0O3CPg9Sba",
      "include_colab_link": true
    },
    "kernelspec": {
      "name": "python3",
      "display_name": "Python 3"
    },
    "language_info": {
      "name": "python"
    }
  },
  "cells": [
    {
      "cell_type": "markdown",
      "metadata": {
        "id": "view-in-github",
        "colab_type": "text"
      },
      "source": [
        "<a href=\"https://colab.research.google.com/github/Barikko/Side_projects/blob/main/%D0%A0%D0%B5%D1%81%D1%82%D0%BE%D1%80%D0%B0%D0%BD%D1%8B%20%D0%94%D0%B0%D0%BA%D0%BA%D0%B8.ipynb\" target=\"_parent\"><img src=\"https://colab.research.google.com/assets/colab-badge.svg\" alt=\"Open In Colab\"/></a>"
      ]
    },
    {
      "cell_type": "markdown",
      "source": [
        "# Проект \"Рестораны Дакки\""
      ],
      "metadata": {
        "id": "2_B72EOuTqqj"
      }
    },
    {
      "cell_type": "markdown",
      "source": [
        "С сайта kaggle был взят датасет, содержащий информацию о 1000 заведений общепита Дакки (данные взяты в Гугл.Картах). Используя этот датасет, проведём очистку данных, выявим закономерности и интересные особенности, также визуализируем результаты.\n",
        "\n",
        "Датасет содержит:\n",
        "\n",
        "    'Name' - название заведения\n",
        "    'Reviews' - оценка заведения на Гугл.Картах\n",
        "    'Number of riviews' - количество пользовательских оценок\n",
        "    'Type' - тип ресторана, его кухня, направление\n",
        "    'Address' - адрес\n",
        "    ' Open Status (regular time)' - статус заведения на момент выгрузки данных (Открыто/Закрыто/Скоро закроется, etc.)\n",
        "    'Close time' - время закрытия ресторана\n",
        "    'Dine in' - возможность поесть в заведении\n",
        "    'Takeway' - возможность забрать еду с собой"
      ],
      "metadata": {
        "id": "-qLF_JC89Dti"
      }
    },
    {
      "cell_type": "markdown",
      "source": [
        "## Загрузка и предобработка"
      ],
      "metadata": {
        "id": "HpT-VA4tT1t1"
      }
    },
    {
      "cell_type": "code",
      "source": [
        "import pandas as pd\n",
        "import numpy as np\n",
        "import seaborn as sns\n",
        "import matplotlib.pyplot as plt\n",
        "from plotly import graph_objects as go\n",
        "from pandas.core.common import SettingWithCopyWarning\n",
        "import warnings\n",
        "from PIL import Image\n",
        "warnings.simplefilter(action=\"ignore\", category=SettingWithCopyWarning)"
      ],
      "metadata": {
        "id": "BRKe1aKxSCgK"
      },
      "execution_count": 101,
      "outputs": []
    },
    {
      "cell_type": "code",
      "execution_count": 80,
      "metadata": {
        "colab": {
          "base_uri": "https://localhost:8080/",
          "height": 1000
        },
        "id": "4neQ2JZ7Yf6L",
        "outputId": "bea4b149-3078-47b7-e34d-923fbf4ed5de"
      },
      "outputs": [
        {
          "output_type": "display_data",
          "data": {
            "text/plain": [
              "                                            Name  Reviews Number of riviews  \\\n",
              "0                         Shakib's 75 Restaurant      4.2               436   \n",
              "1                     Thai Chi Restaurant & Cafe      4.1              4474   \n",
              "2                         Izumi Japanese Kitchen      4.5              1606   \n",
              "3                                      Krua Thai      3.9              1976   \n",
              "4                                  Lucknow Dhaka      4.2              1503   \n",
              "...                                          ...      ...               ...   \n",
              "1064  American Burger Bashundhara R/A New Outlet      5.0                 1   \n",
              "1065                              The Local Yard      NaN               NaN   \n",
              "1066                                   Time Pass      4.0                 2   \n",
              "1067                 Famous Sweets (Bashundhara)      3.9                25   \n",
              "1068                             The coffee Club      3.5                 2   \n",
              "\n",
              "                 Type                                            Address  \\\n",
              "0          Restaurant  Ruapyan ZR Plaza, Level 9, Satmasjid Road, Roa...   \n",
              "1                Thai  Bijay Sarani Rangs Bhaban, Level 7, 117/A, Pur...   \n",
              "2            Japanese                      House no: 88, 24C Rd No 113/A   \n",
              "3                Thai                        Bir Uttam Mir Shawkat Sarak   \n",
              "4              Indian                             E 60 Kemal Ataturk Ave   \n",
              "...               ...                                                ...   \n",
              "1064        Hamburger                           RC6F+VV7, Bashundhara Rd   \n",
              "1065  Family-friendly      Hazi Abdul Latif Mansion, Ka-9 Bashundhara Rd   \n",
              "1066       Restaurant                                                NaN   \n",
              "1067       Restaurant  Ka-54/3 Bashundhara Rd, Dhaka 1229 Bashundhara...   \n",
              "1068        Fast Food                           RC7F+5CC, Bashundhara Rd   \n",
              "\n",
              "      Open Status (regular time)        Close time Dine in Takeway  \n",
              "0                           Open          11    PM     yes     yes  \n",
              "1                           Open       11:30    PM      No     NaN  \n",
              "2                         Closed           6    PM     yes      No  \n",
              "3                           Open          11    PM     yes      No  \n",
              "4                         Closed           6    PM     yes     yes  \n",
              "...                          ...               ...     ...     ...  \n",
              "1064                         NaN               NaN     Yes     Yes  \n",
              "1065                         NaN               NaN     Yes     Yes  \n",
              "1066                         NaN               NaN     Yes     Yes  \n",
              "1067                      Closed    Opens 8 PM Fri     Yes     Yes  \n",
              "1068                      Closed    Opens 8 PM Sat     Yes     Yes  \n",
              "\n",
              "[1069 rows x 9 columns]"
            ],
            "text/html": [
              "\n",
              "  <div id=\"df-dfc8fe68-bd99-4965-8e8f-44a8ee50a69b\">\n",
              "    <div class=\"colab-df-container\">\n",
              "      <div>\n",
              "<style scoped>\n",
              "    .dataframe tbody tr th:only-of-type {\n",
              "        vertical-align: middle;\n",
              "    }\n",
              "\n",
              "    .dataframe tbody tr th {\n",
              "        vertical-align: top;\n",
              "    }\n",
              "\n",
              "    .dataframe thead th {\n",
              "        text-align: right;\n",
              "    }\n",
              "</style>\n",
              "<table border=\"1\" class=\"dataframe\">\n",
              "  <thead>\n",
              "    <tr style=\"text-align: right;\">\n",
              "      <th></th>\n",
              "      <th>Name</th>\n",
              "      <th>Reviews</th>\n",
              "      <th>Number of riviews</th>\n",
              "      <th>Type</th>\n",
              "      <th>Address</th>\n",
              "      <th>Open Status (regular time)</th>\n",
              "      <th>Close time</th>\n",
              "      <th>Dine in</th>\n",
              "      <th>Takeway</th>\n",
              "    </tr>\n",
              "  </thead>\n",
              "  <tbody>\n",
              "    <tr>\n",
              "      <th>0</th>\n",
              "      <td>Shakib's 75 Restaurant</td>\n",
              "      <td>4.2</td>\n",
              "      <td>436</td>\n",
              "      <td>Restaurant</td>\n",
              "      <td>Ruapyan ZR Plaza, Level 9, Satmasjid Road, Roa...</td>\n",
              "      <td>Open</td>\n",
              "      <td>11    PM</td>\n",
              "      <td>yes</td>\n",
              "      <td>yes</td>\n",
              "    </tr>\n",
              "    <tr>\n",
              "      <th>1</th>\n",
              "      <td>Thai Chi Restaurant &amp; Cafe</td>\n",
              "      <td>4.1</td>\n",
              "      <td>4474</td>\n",
              "      <td>Thai</td>\n",
              "      <td>Bijay Sarani Rangs Bhaban, Level 7, 117/A, Pur...</td>\n",
              "      <td>Open</td>\n",
              "      <td>11:30    PM</td>\n",
              "      <td>No</td>\n",
              "      <td>NaN</td>\n",
              "    </tr>\n",
              "    <tr>\n",
              "      <th>2</th>\n",
              "      <td>Izumi Japanese Kitchen</td>\n",
              "      <td>4.5</td>\n",
              "      <td>1606</td>\n",
              "      <td>Japanese</td>\n",
              "      <td>House no: 88, 24C Rd No 113/A</td>\n",
              "      <td>Closed</td>\n",
              "      <td>6    PM</td>\n",
              "      <td>yes</td>\n",
              "      <td>No</td>\n",
              "    </tr>\n",
              "    <tr>\n",
              "      <th>3</th>\n",
              "      <td>Krua Thai</td>\n",
              "      <td>3.9</td>\n",
              "      <td>1976</td>\n",
              "      <td>Thai</td>\n",
              "      <td>Bir Uttam Mir Shawkat Sarak</td>\n",
              "      <td>Open</td>\n",
              "      <td>11    PM</td>\n",
              "      <td>yes</td>\n",
              "      <td>No</td>\n",
              "    </tr>\n",
              "    <tr>\n",
              "      <th>4</th>\n",
              "      <td>Lucknow Dhaka</td>\n",
              "      <td>4.2</td>\n",
              "      <td>1503</td>\n",
              "      <td>Indian</td>\n",
              "      <td>E 60 Kemal Ataturk Ave</td>\n",
              "      <td>Closed</td>\n",
              "      <td>6    PM</td>\n",
              "      <td>yes</td>\n",
              "      <td>yes</td>\n",
              "    </tr>\n",
              "    <tr>\n",
              "      <th>...</th>\n",
              "      <td>...</td>\n",
              "      <td>...</td>\n",
              "      <td>...</td>\n",
              "      <td>...</td>\n",
              "      <td>...</td>\n",
              "      <td>...</td>\n",
              "      <td>...</td>\n",
              "      <td>...</td>\n",
              "      <td>...</td>\n",
              "    </tr>\n",
              "    <tr>\n",
              "      <th>1064</th>\n",
              "      <td>American Burger Bashundhara R/A New Outlet</td>\n",
              "      <td>5.0</td>\n",
              "      <td>1</td>\n",
              "      <td>Hamburger</td>\n",
              "      <td>RC6F+VV7, Bashundhara Rd</td>\n",
              "      <td>NaN</td>\n",
              "      <td>NaN</td>\n",
              "      <td>Yes</td>\n",
              "      <td>Yes</td>\n",
              "    </tr>\n",
              "    <tr>\n",
              "      <th>1065</th>\n",
              "      <td>The Local Yard</td>\n",
              "      <td>NaN</td>\n",
              "      <td>NaN</td>\n",
              "      <td>Family-friendly</td>\n",
              "      <td>Hazi Abdul Latif Mansion, Ka-9 Bashundhara Rd</td>\n",
              "      <td>NaN</td>\n",
              "      <td>NaN</td>\n",
              "      <td>Yes</td>\n",
              "      <td>Yes</td>\n",
              "    </tr>\n",
              "    <tr>\n",
              "      <th>1066</th>\n",
              "      <td>Time Pass</td>\n",
              "      <td>4.0</td>\n",
              "      <td>2</td>\n",
              "      <td>Restaurant</td>\n",
              "      <td>NaN</td>\n",
              "      <td>NaN</td>\n",
              "      <td>NaN</td>\n",
              "      <td>Yes</td>\n",
              "      <td>Yes</td>\n",
              "    </tr>\n",
              "    <tr>\n",
              "      <th>1067</th>\n",
              "      <td>Famous Sweets (Bashundhara)</td>\n",
              "      <td>3.9</td>\n",
              "      <td>25</td>\n",
              "      <td>Restaurant</td>\n",
              "      <td>Ka-54/3 Bashundhara Rd, Dhaka 1229 Bashundhara...</td>\n",
              "      <td>Closed</td>\n",
              "      <td>Opens 8 PM Fri</td>\n",
              "      <td>Yes</td>\n",
              "      <td>Yes</td>\n",
              "    </tr>\n",
              "    <tr>\n",
              "      <th>1068</th>\n",
              "      <td>The coffee Club</td>\n",
              "      <td>3.5</td>\n",
              "      <td>2</td>\n",
              "      <td>Fast Food</td>\n",
              "      <td>RC7F+5CC, Bashundhara Rd</td>\n",
              "      <td>Closed</td>\n",
              "      <td>Opens 8 PM Sat</td>\n",
              "      <td>Yes</td>\n",
              "      <td>Yes</td>\n",
              "    </tr>\n",
              "  </tbody>\n",
              "</table>\n",
              "<p>1069 rows × 9 columns</p>\n",
              "</div>\n",
              "      <button class=\"colab-df-convert\" onclick=\"convertToInteractive('df-dfc8fe68-bd99-4965-8e8f-44a8ee50a69b')\"\n",
              "              title=\"Convert this dataframe to an interactive table.\"\n",
              "              style=\"display:none;\">\n",
              "        \n",
              "  <svg xmlns=\"http://www.w3.org/2000/svg\" height=\"24px\"viewBox=\"0 0 24 24\"\n",
              "       width=\"24px\">\n",
              "    <path d=\"M0 0h24v24H0V0z\" fill=\"none\"/>\n",
              "    <path d=\"M18.56 5.44l.94 2.06.94-2.06 2.06-.94-2.06-.94-.94-2.06-.94 2.06-2.06.94zm-11 1L8.5 8.5l.94-2.06 2.06-.94-2.06-.94L8.5 2.5l-.94 2.06-2.06.94zm10 10l.94 2.06.94-2.06 2.06-.94-2.06-.94-.94-2.06-.94 2.06-2.06.94z\"/><path d=\"M17.41 7.96l-1.37-1.37c-.4-.4-.92-.59-1.43-.59-.52 0-1.04.2-1.43.59L10.3 9.45l-7.72 7.72c-.78.78-.78 2.05 0 2.83L4 21.41c.39.39.9.59 1.41.59.51 0 1.02-.2 1.41-.59l7.78-7.78 2.81-2.81c.8-.78.8-2.07 0-2.86zM5.41 20L4 18.59l7.72-7.72 1.47 1.35L5.41 20z\"/>\n",
              "  </svg>\n",
              "      </button>\n",
              "      \n",
              "  <style>\n",
              "    .colab-df-container {\n",
              "      display:flex;\n",
              "      flex-wrap:wrap;\n",
              "      gap: 12px;\n",
              "    }\n",
              "\n",
              "    .colab-df-convert {\n",
              "      background-color: #E8F0FE;\n",
              "      border: none;\n",
              "      border-radius: 50%;\n",
              "      cursor: pointer;\n",
              "      display: none;\n",
              "      fill: #1967D2;\n",
              "      height: 32px;\n",
              "      padding: 0 0 0 0;\n",
              "      width: 32px;\n",
              "    }\n",
              "\n",
              "    .colab-df-convert:hover {\n",
              "      background-color: #E2EBFA;\n",
              "      box-shadow: 0px 1px 2px rgba(60, 64, 67, 0.3), 0px 1px 3px 1px rgba(60, 64, 67, 0.15);\n",
              "      fill: #174EA6;\n",
              "    }\n",
              "\n",
              "    [theme=dark] .colab-df-convert {\n",
              "      background-color: #3B4455;\n",
              "      fill: #D2E3FC;\n",
              "    }\n",
              "\n",
              "    [theme=dark] .colab-df-convert:hover {\n",
              "      background-color: #434B5C;\n",
              "      box-shadow: 0px 1px 3px 1px rgba(0, 0, 0, 0.15);\n",
              "      filter: drop-shadow(0px 1px 2px rgba(0, 0, 0, 0.3));\n",
              "      fill: #FFFFFF;\n",
              "    }\n",
              "  </style>\n",
              "\n",
              "      <script>\n",
              "        const buttonEl =\n",
              "          document.querySelector('#df-dfc8fe68-bd99-4965-8e8f-44a8ee50a69b button.colab-df-convert');\n",
              "        buttonEl.style.display =\n",
              "          google.colab.kernel.accessAllowed ? 'block' : 'none';\n",
              "\n",
              "        async function convertToInteractive(key) {\n",
              "          const element = document.querySelector('#df-dfc8fe68-bd99-4965-8e8f-44a8ee50a69b');\n",
              "          const dataTable =\n",
              "            await google.colab.kernel.invokeFunction('convertToInteractive',\n",
              "                                                     [key], {});\n",
              "          if (!dataTable) return;\n",
              "\n",
              "          const docLinkHtml = 'Like what you see? Visit the ' +\n",
              "            '<a target=\"_blank\" href=https://colab.research.google.com/notebooks/data_table.ipynb>data table notebook</a>'\n",
              "            + ' to learn more about interactive tables.';\n",
              "          element.innerHTML = '';\n",
              "          dataTable['output_type'] = 'display_data';\n",
              "          await google.colab.output.renderOutput(dataTable, element);\n",
              "          const docLink = document.createElement('div');\n",
              "          docLink.innerHTML = docLinkHtml;\n",
              "          element.appendChild(docLink);\n",
              "        }\n",
              "      </script>\n",
              "    </div>\n",
              "  </div>\n",
              "  "
            ]
          },
          "metadata": {}
        },
        {
          "output_type": "stream",
          "name": "stdout",
          "text": [
            "<class 'pandas.core.frame.DataFrame'>\n",
            "RangeIndex: 1069 entries, 0 to 1068\n",
            "Data columns (total 9 columns):\n",
            " #   Column                       Non-Null Count  Dtype  \n",
            "---  ------                       --------------  -----  \n",
            " 0   Name                         1067 non-null   object \n",
            " 1   Reviews                      1022 non-null   float64\n",
            " 2   Number of riviews            1020 non-null   object \n",
            " 3   Type                         1067 non-null   object \n",
            " 4   Address                      1048 non-null   object \n",
            " 5    Open Status (regular time)  1021 non-null   object \n",
            " 6   Close time                   981 non-null    object \n",
            " 7   Dine in                      1061 non-null   object \n",
            " 8   Takeway                      1027 non-null   object \n",
            "dtypes: float64(1), object(8)\n",
            "memory usage: 75.3+ KB\n",
            "None\n",
            "           Reviews\n",
            "count  1022.000000\n",
            "mean      4.049492\n",
            "std       0.523905\n",
            "min       1.000000\n",
            "25%       3.900000\n",
            "50%       4.100000\n",
            "75%       4.300000\n",
            "max       5.000000\n",
            "[[<Axes: title={'center': 'Reviews'}>]]\n",
            "Index(['Name', 'Reviews', 'Number of riviews', 'Type', 'Address',\n",
            "       ' Open Status (regular time)', 'Close time', 'Dine in', 'Takeway'],\n",
            "      dtype='object')\n"
          ]
        },
        {
          "output_type": "display_data",
          "data": {
            "text/plain": [
              "<Figure size 432x288 with 1 Axes>"
            ],
            "image/png": "[encoded data removed]"
          },
          "metadata": {
            "needs_background": "light"
          }
        }
      ],
      "source": [
        "#Первый взгляд на датасет\n",
        "df=pd.read_csv('/content/Dhaka restuarant.csv',encoding='latin-1')\n",
        "display(df)\n",
        "print(df.info())\n",
        "print(df.describe())\n",
        "print(df.hist())\n",
        "print(df.columns)"
      ]
    },
    {
      "cell_type": "code",
      "source": [
        "#Переименуем столбцы, переведём в нужные форматы, избавимся от дубликатов\n",
        "#Столбец \" Open Status (regular time)\" удалён, так как имел информацию о том, открыт ресторан или нет, на момент выгрузки данных, то есть неактуальную \n",
        "df = df.drop(' Open Status (regular time)', axis=1)\n",
        "df.columns=['name', 'rating', 'number_of_reviews', 'type', 'address', 'close_time', 'dine_in', 'take_away']\n",
        "print(df.duplicated().sum())\n",
        "df=df.drop_duplicates(ignore_index=True)\n",
        "df=df.drop_duplicates(subset='name',ignore_index=True)\n",
        "df['number_of_reviews'] = pd.to_numeric(df['number_of_reviews'], errors='coerce')\n",
        "df['number_of_reviews']=abs(df['number_of_reviews'])"
      ],
      "metadata": {
        "colab": {
          "base_uri": "https://localhost:8080/"
        },
        "id": "g0q8e1-aT_AW",
        "outputId": "d93070dc-71cf-4dc8-80ee-b1a301a37a55"
      },
      "execution_count": 81,
      "outputs": [
        {
          "output_type": "stream",
          "name": "stdout",
          "text": [
            "20\n"
          ]
        }
      ]
    },
    {
      "cell_type": "code",
      "source": [
        "display(df.query('rating<1'))\n",
        "display(df.query('rating>5'))\n",
        "#Отзывов, выходящих за 5-балльную систему, нет "
      ],
      "metadata": {
        "colab": {
          "base_uri": "https://localhost:8080/",
          "height": 82
        },
        "id": "Eb3ZLhM1ieIV",
        "outputId": "2fcccb89-536e-4bb3-f4d8-81c50702a675"
      },
      "execution_count": 82,
      "outputs": [
        {
          "output_type": "display_data",
          "data": {
            "text/plain": [
              "Empty DataFrame\n",
              "Columns: [name, rating, number_of_reviews, type, address, close_time, dine_in, take_away]\n",
              "Index: []"
            ],
            "text/html": [
              "\n",
              "  <div id=\"df-4b59dac0-5c05-4ede-be64-7a0da1a76d22\">\n",
              "    <div class=\"colab-df-container\">\n",
              "      <div>\n",
              "<style scoped>\n",
              "    .dataframe tbody tr th:only-of-type {\n",
              "        vertical-align: middle;\n",
              "    }\n",
              "\n",
              "    .dataframe tbody tr th {\n",
              "        vertical-align: top;\n",
              "    }\n",
              "\n",
              "    .dataframe thead th {\n",
              "        text-align: right;\n",
              "    }\n",
              "</style>\n",
              "<table border=\"1\" class=\"dataframe\">\n",
              "  <thead>\n",
              "    <tr style=\"text-align: right;\">\n",
              "      <th></th>\n",
              "      <th>name</th>\n",
              "      <th>rating</th>\n",
              "      <th>number_of_reviews</th>\n",
              "      <th>type</th>\n",
              "      <th>address</th>\n",
              "      <th>close_time</th>\n",
              "      <th>dine_in</th>\n",
              "      <th>take_away</th>\n",
              "    </tr>\n",
              "  </thead>\n",
              "  <tbody>\n",
              "  </tbody>\n",
              "</table>\n",
              "</div>\n",
              "      <button class=\"colab-df-convert\" onclick=\"convertToInteractive('df-4b59dac0-5c05-4ede-be64-7a0da1a76d22')\"\n",
              "              title=\"Convert this dataframe to an interactive table.\"\n",
              "              style=\"display:none;\">\n",
              "        \n",
              "  <svg xmlns=\"http://www.w3.org/2000/svg\" height=\"24px\"viewBox=\"0 0 24 24\"\n",
              "       width=\"24px\">\n",
              "    <path d=\"M0 0h24v24H0V0z\" fill=\"none\"/>\n",
              "    <path d=\"M18.56 5.44l.94 2.06.94-2.06 2.06-.94-2.06-.94-.94-2.06-.94 2.06-2.06.94zm-11 1L8.5 8.5l.94-2.06 2.06-.94-2.06-.94L8.5 2.5l-.94 2.06-2.06.94zm10 10l.94 2.06.94-2.06 2.06-.94-2.06-.94-.94-2.06-.94 2.06-2.06.94z\"/><path d=\"M17.41 7.96l-1.37-1.37c-.4-.4-.92-.59-1.43-.59-.52 0-1.04.2-1.43.59L10.3 9.45l-7.72 7.72c-.78.78-.78 2.05 0 2.83L4 21.41c.39.39.9.59 1.41.59.51 0 1.02-.2 1.41-.59l7.78-7.78 2.81-2.81c.8-.78.8-2.07 0-2.86zM5.41 20L4 18.59l7.72-7.72 1.47 1.35L5.41 20z\"/>\n",
              "  </svg>\n",
              "      </button>\n",
              "      \n",
              "  <style>\n",
              "    .colab-df-container {\n",
              "      display:flex;\n",
              "      flex-wrap:wrap;\n",
              "      gap: 12px;\n",
              "    }\n",
              "\n",
              "    .colab-df-convert {\n",
              "      background-color: #E8F0FE;\n",
              "      border: none;\n",
              "      border-radius: 50%;\n",
              "      cursor: pointer;\n",
              "      display: none;\n",
              "      fill: #1967D2;\n",
              "      height: 32px;\n",
              "      padding: 0 0 0 0;\n",
              "      width: 32px;\n",
              "    }\n",
              "\n",
              "    .colab-df-convert:hover {\n",
              "      background-color: #E2EBFA;\n",
              "      box-shadow: 0px 1px 2px rgba(60, 64, 67, 0.3), 0px 1px 3px 1px rgba(60, 64, 67, 0.15);\n",
              "      fill: #174EA6;\n",
              "    }\n",
              "\n",
              "    [theme=dark] .colab-df-convert {\n",
              "      background-color: #3B4455;\n",
              "      fill: #D2E3FC;\n",
              "    }\n",
              "\n",
              "    [theme=dark] .colab-df-convert:hover {\n",
              "      background-color: #434B5C;\n",
              "      box-shadow: 0px 1px 3px 1px rgba(0, 0, 0, 0.15);\n",
              "      filter: drop-shadow(0px 1px 2px rgba(0, 0, 0, 0.3));\n",
              "      fill: #FFFFFF;\n",
              "    }\n",
              "  </style>\n",
              "\n",
              "      <script>\n",
              "        const buttonEl =\n",
              "          document.querySelector('#df-4b59dac0-5c05-4ede-be64-7a0da1a76d22 button.colab-df-convert');\n",
              "        buttonEl.style.display =\n",
              "          google.colab.kernel.accessAllowed ? 'block' : 'none';\n",
              "\n",
              "        async function convertToInteractive(key) {\n",
              "          const element = document.querySelector('#df-4b59dac0-5c05-4ede-be64-7a0da1a76d22');\n",
              "          const dataTable =\n",
              "            await google.colab.kernel.invokeFunction('convertToInteractive',\n",
              "                                                     [key], {});\n",
              "          if (!dataTable) return;\n",
              "\n",
              "          const docLinkHtml = 'Like what you see? Visit the ' +\n",
              "            '<a target=\"_blank\" href=https://colab.research.google.com/notebooks/data_table.ipynb>data table notebook</a>'\n",
              "            + ' to learn more about interactive tables.';\n",
              "          element.innerHTML = '';\n",
              "          dataTable['output_type'] = 'display_data';\n",
              "          await google.colab.output.renderOutput(dataTable, element);\n",
              "          const docLink = document.createElement('div');\n",
              "          docLink.innerHTML = docLinkHtml;\n",
              "          element.appendChild(docLink);\n",
              "        }\n",
              "      </script>\n",
              "    </div>\n",
              "  </div>\n",
              "  "
            ]
          },
          "metadata": {}
        },
        {
          "output_type": "display_data",
          "data": {
            "text/plain": [
              "Empty DataFrame\n",
              "Columns: [name, rating, number_of_reviews, type, address, close_time, dine_in, take_away]\n",
              "Index: []"
            ],
            "text/html": [
              "\n",
              "  <div id=\"df-b2a81939-f540-443e-abae-e43c3b99e4a4\">\n",
              "    <div class=\"colab-df-container\">\n",
              "      <div>\n",
              "<style scoped>\n",
              "    .dataframe tbody tr th:only-of-type {\n",
              "        vertical-align: middle;\n",
              "    }\n",
              "\n",
              "    .dataframe tbody tr th {\n",
              "        vertical-align: top;\n",
              "    }\n",
              "\n",
              "    .dataframe thead th {\n",
              "        text-align: right;\n",
              "    }\n",
              "</style>\n",
              "<table border=\"1\" class=\"dataframe\">\n",
              "  <thead>\n",
              "    <tr style=\"text-align: right;\">\n",
              "      <th></th>\n",
              "      <th>name</th>\n",
              "      <th>rating</th>\n",
              "      <th>number_of_reviews</th>\n",
              "      <th>type</th>\n",
              "      <th>address</th>\n",
              "      <th>close_time</th>\n",
              "      <th>dine_in</th>\n",
              "      <th>take_away</th>\n",
              "    </tr>\n",
              "  </thead>\n",
              "  <tbody>\n",
              "  </tbody>\n",
              "</table>\n",
              "</div>\n",
              "      <button class=\"colab-df-convert\" onclick=\"convertToInteractive('df-b2a81939-f540-443e-abae-e43c3b99e4a4')\"\n",
              "              title=\"Convert this dataframe to an interactive table.\"\n",
              "              style=\"display:none;\">\n",
              "        \n",
              "  <svg xmlns=\"http://www.w3.org/2000/svg\" height=\"24px\"viewBox=\"0 0 24 24\"\n",
              "       width=\"24px\">\n",
              "    <path d=\"M0 0h24v24H0V0z\" fill=\"none\"/>\n",
              "    <path d=\"M18.56 5.44l.94 2.06.94-2.06 2.06-.94-2.06-.94-.94-2.06-.94 2.06-2.06.94zm-11 1L8.5 8.5l.94-2.06 2.06-.94-2.06-.94L8.5 2.5l-.94 2.06-2.06.94zm10 10l.94 2.06.94-2.06 2.06-.94-2.06-.94-.94-2.06-.94 2.06-2.06.94z\"/><path d=\"M17.41 7.96l-1.37-1.37c-.4-.4-.92-.59-1.43-.59-.52 0-1.04.2-1.43.59L10.3 9.45l-7.72 7.72c-.78.78-.78 2.05 0 2.83L4 21.41c.39.39.9.59 1.41.59.51 0 1.02-.2 1.41-.59l7.78-7.78 2.81-2.81c.8-.78.8-2.07 0-2.86zM5.41 20L4 18.59l7.72-7.72 1.47 1.35L5.41 20z\"/>\n",
              "  </svg>\n",
              "      </button>\n",
              "      \n",
              "  <style>\n",
              "    .colab-df-container {\n",
              "      display:flex;\n",
              "      flex-wrap:wrap;\n",
              "      gap: 12px;\n",
              "    }\n",
              "\n",
              "    .colab-df-convert {\n",
              "      background-color: #E8F0FE;\n",
              "      border: none;\n",
              "      border-radius: 50%;\n",
              "      cursor: pointer;\n",
              "      display: none;\n",
              "      fill: #1967D2;\n",
              "      height: 32px;\n",
              "      padding: 0 0 0 0;\n",
              "      width: 32px;\n",
              "    }\n",
              "\n",
              "    .colab-df-convert:hover {\n",
              "      background-color: #E2EBFA;\n",
              "      box-shadow: 0px 1px 2px rgba(60, 64, 67, 0.3), 0px 1px 3px 1px rgba(60, 64, 67, 0.15);\n",
              "      fill: #174EA6;\n",
              "    }\n",
              "\n",
              "    [theme=dark] .colab-df-convert {\n",
              "      background-color: #3B4455;\n",
              "      fill: #D2E3FC;\n",
              "    }\n",
              "\n",
              "    [theme=dark] .colab-df-convert:hover {\n",
              "      background-color: #434B5C;\n",
              "      box-shadow: 0px 1px 3px 1px rgba(0, 0, 0, 0.15);\n",
              "      filter: drop-shadow(0px 1px 2px rgba(0, 0, 0, 0.3));\n",
              "      fill: #FFFFFF;\n",
              "    }\n",
              "  </style>\n",
              "\n",
              "      <script>\n",
              "        const buttonEl =\n",
              "          document.querySelector('#df-b2a81939-f540-443e-abae-e43c3b99e4a4 button.colab-df-convert');\n",
              "        buttonEl.style.display =\n",
              "          google.colab.kernel.accessAllowed ? 'block' : 'none';\n",
              "\n",
              "        async function convertToInteractive(key) {\n",
              "          const element = document.querySelector('#df-b2a81939-f540-443e-abae-e43c3b99e4a4');\n",
              "          const dataTable =\n",
              "            await google.colab.kernel.invokeFunction('convertToInteractive',\n",
              "                                                     [key], {});\n",
              "          if (!dataTable) return;\n",
              "\n",
              "          const docLinkHtml = 'Like what you see? Visit the ' +\n",
              "            '<a target=\"_blank\" href=https://colab.research.google.com/notebooks/data_table.ipynb>data table notebook</a>'\n",
              "            + ' to learn more about interactive tables.';\n",
              "          element.innerHTML = '';\n",
              "          dataTable['output_type'] = 'display_data';\n",
              "          await google.colab.output.renderOutput(dataTable, element);\n",
              "          const docLink = document.createElement('div');\n",
              "          docLink.innerHTML = docLinkHtml;\n",
              "          element.appendChild(docLink);\n",
              "        }\n",
              "      </script>\n",
              "    </div>\n",
              "  </div>\n",
              "  "
            ]
          },
          "metadata": {}
        }
      ]
    },
    {
      "cell_type": "code",
      "source": [
        "print(df['type'].unique())\n",
        "df=df.query('type!=\"Medical clinic\"')\n",
        "#Удаляем места, не относящиеся к ресторанам\n",
        "#В массиве есть такие категории, как \"Shopping mall\", \"5-star hotel\", \"Boarding house\", \"Tourist attraction\", \"Apartment building\"\n",
        "#Погуглив, было выяснено, что это тоже общепит, то есть удалять не нужно, в отличие от \"Medical clinic\", которая и была удалена"
      ],
      "metadata": {
        "colab": {
          "base_uri": "https://localhost:8080/"
        },
        "id": "bjv3oejel5Nc",
        "outputId": "04e9dcd2-bcb5-42dc-fd6a-f98b629b6cb4"
      },
      "execution_count": 83,
      "outputs": [
        {
          "output_type": "stream",
          "name": "stdout",
          "text": [
            "['Restaurant' 'Thai' 'Japanese' 'Indian' 'Fine Dining' 'Italian' 'Steak'\n",
            " 'Korean' 'Pan Asian' 'Buffet' 'Cantonese' 'Asian' 'Bangladeshi' 'Mexican'\n",
            " 'Lebanese' 'Seafood' 'Fusion restaurant' 'Chinese' 'Turkish' 'Western'\n",
            " 'Pizza' 'Family-friendly' 'Fast Food' 'Biryani' 'Barbecue' 'Sushi'\n",
            " 'Sri Lankan' 'South Indian' 'Biriyani Restaurant' 'Vegetarian'\n",
            " 'Kebab shop' 'Bakery' 'Delivery service' 'Shopping mall' '5-star hotel'\n",
            " 'Boarding house' 'Tourist attraction' 'Apartment building'\n",
            " 'Medical clinic' 'Chicken' 'American' 'Hamburger' nan\n",
            " 'Continental restaurant' 'Asian Fusion' 'Food court' 'Grill' 'Bar' 'Cafe'\n",
            " 'Hot Pot' 'Bengali' 'Wok restaurant' 'Traditional restaurant'\n",
            " 'Portuguese' 'Modern European' 'Malaysian' 'Down Home Cooking'\n",
            " 'Momo restaurant' 'Middle Eastern' 'Arab restaurant']\n"
          ]
        }
      ]
    },
    {
      "cell_type": "markdown",
      "source": [
        "В массиве есть такие категории, как \"Shopping mall\", \"5-star hotel\", \"Boarding house\", \"Tourist attraction\", \"Apartment building\" - погуглив, было выяснено, что это тоже общепит, то есть удалять не нужно, в отличие от \"Medical clinic\", которая и была удалена"
      ],
      "metadata": {
        "id": "1fiwAeoIYoC-"
      }
    },
    {
      "cell_type": "code",
      "source": [
        "df['close_time']=df['close_time'].astype(str)\n",
        "df['close_time']=df['close_time'].apply(lambda x:x.strip()).apply(lambda x:x.replace('   ',' ')).apply(lambda x:x.replace('  ',' ')).apply(lambda x:x.replace('11:00 PM','11 PM'))\n",
        "df['close_time'].unique()\n",
        "#Добавил красоты"
      ],
      "metadata": {
        "colab": {
          "base_uri": "https://localhost:8080/"
        },
        "id": "yI_MTTBesjcA",
        "outputId": "debce0e5-b657-415a-d041-7bc124866607"
      },
      "execution_count": 84,
      "outputs": [
        {
          "output_type": "execute_result",
          "data": {
            "text/plain": [
              "array(['11 PM', '11:30 PM', '6 PM', '1 PM', '12 PM', '10:30 PM', '10 PM',\n",
              "       '10:45 PM', '6:30 PM', 'nan', '12:30 PM', '5:30 PM', '7 PM',\n",
              "       '8 PM', '2 PM', '9:45 PM', '11:45 PM', '3 PM', '8:30 PM', '9 PM',\n",
              "       '7 PM Fri', '12 PM Fri', '9 PM Sat', '7 PM 9 PM Fri',\n",
              "       '10:30 PM Fri', '10:01 PM', '1:30 PM', '11:59 PM', '9:30 PM',\n",
              "       '5:30 PM Fri', '10:50 PM', '2:30 PM', '10:15 PM', '8 PM 10 PM Fri',\n",
              "       '11 PM Fri', '11:30 PM Fri', '12:22 PM', '4 PM', '11:15 PM',\n",
              "       '8 PM 9:30 PM Fri', 'Opens 8 PM Fri', 'Opens 8 PM Sat'],\n",
              "      dtype=object)"
            ]
          },
          "metadata": {},
          "execution_count": 84
        }
      ]
    },
    {
      "cell_type": "code",
      "source": [
        "df['dine_in'].unique()\n",
        "df['dine_in']=df['dine_in'].map({'yes':True,'No':False,'Yes':True,'Yes ':True,'yEs':True})\n",
        "#Заменим да/нет на boolean"
      ],
      "metadata": {
        "id": "PbUPu5j5x18Y"
      },
      "execution_count": 85,
      "outputs": []
    },
    {
      "cell_type": "code",
      "source": [
        "df['take_away'].unique()\n",
        "df['take_away']=df['take_away'].map({'yes':True,'No':False,'Yes':True,'food':True,'No ':False,'Delivery':True})\n",
        "#Аналогично"
      ],
      "metadata": {
        "id": "4PcthN_99DoE"
      },
      "execution_count": 86,
      "outputs": []
    },
    {
      "cell_type": "markdown",
      "source": [
        "## Анализ"
      ],
      "metadata": {
        "id": "kyyIOY0AGE2o"
      }
    },
    {
      "cell_type": "code",
      "source": [
        "print(df['rating'].describe())\n",
        "df['rating'].hist(bins=10,figsize=(10,5),grid=True)\n",
        "plt.title('Распределение оценок');"
      ],
      "metadata": {
        "colab": {
          "base_uri": "https://localhost:8080/",
          "height": 497
        },
        "id": "eOaJ_bKXXRgo",
        "outputId": "b6700809-ae5a-41f3-9b1f-6e6f2598b70f"
      },
      "execution_count": 87,
      "outputs": [
        {
          "output_type": "stream",
          "name": "stdout",
          "text": [
            "count    850.000000\n",
            "mean       4.041051\n",
            "std        0.544182\n",
            "min        1.000000\n",
            "25%        3.900000\n",
            "50%        4.100000\n",
            "75%        4.300000\n",
            "max        5.000000\n",
            "Name: rating, dtype: float64\n"
          ]
        },
        {
          "output_type": "display_data",
          "data": {
            "text/plain": [
              "<Figure size 720x360 with 1 Axes>"
            ],
            "image/png": "[encoded data removed]"
          },
          "metadata": {
            "needs_background": "light"
          }
        }
      ]
    },
    {
      "cell_type": "markdown",
      "source": [
        "Большая часть оценок колеблется от 3.5 до 4.5, средняя - 4.0."
      ],
      "metadata": {
        "id": "iAUBAcWFGYGT"
      }
    },
    {
      "cell_type": "markdown",
      "source": [
        "### Худшие и лучшие популярные рестораны (имеющие много оценок) "
      ],
      "metadata": {
        "id": "epMsbH1SQEcR"
      }
    },
    {
      "cell_type": "code",
      "source": [
        "df.query('rating<2 & number_of_reviews>9')"
      ],
      "metadata": {
        "colab": {
          "base_uri": "https://localhost:8080/",
          "height": 112
        },
        "id": "PFOmmRjIGq3J",
        "outputId": "d2ed76c8-08ce-4ab1-c832-c03223b205b3"
      },
      "execution_count": 88,
      "outputs": [
        {
          "output_type": "execute_result",
          "data": {
            "text/plain": [
              "                 name  rating  number_of_reviews         type  \\\n",
              "79   Almas Restaurant     1.8               10.0   Restaurant   \n",
              "203            DJ JSK     1.9               15.0  Bangladeshi   \n",
              "\n",
              "                          address close_time dine_in take_away  \n",
              "79   5/Kha, Kayettuly Lane, Dhaka   10:30 PM    True      True  \n",
              "203                           NaN        nan    True      True  "
            ],
            "text/html": [
              "\n",
              "  <div id=\"df-e1f44a87-259f-4d73-813a-c36019483133\">\n",
              "    <div class=\"colab-df-container\">\n",
              "      <div>\n",
              "<style scoped>\n",
              "    .dataframe tbody tr th:only-of-type {\n",
              "        vertical-align: middle;\n",
              "    }\n",
              "\n",
              "    .dataframe tbody tr th {\n",
              "        vertical-align: top;\n",
              "    }\n",
              "\n",
              "    .dataframe thead th {\n",
              "        text-align: right;\n",
              "    }\n",
              "</style>\n",
              "<table border=\"1\" class=\"dataframe\">\n",
              "  <thead>\n",
              "    <tr style=\"text-align: right;\">\n",
              "      <th></th>\n",
              "      <th>name</th>\n",
              "      <th>rating</th>\n",
              "      <th>number_of_reviews</th>\n",
              "      <th>type</th>\n",
              "      <th>address</th>\n",
              "      <th>close_time</th>\n",
              "      <th>dine_in</th>\n",
              "      <th>take_away</th>\n",
              "    </tr>\n",
              "  </thead>\n",
              "  <tbody>\n",
              "    <tr>\n",
              "      <th>79</th>\n",
              "      <td>Almas Restaurant</td>\n",
              "      <td>1.8</td>\n",
              "      <td>10.0</td>\n",
              "      <td>Restaurant</td>\n",
              "      <td>5/Kha, Kayettuly Lane, Dhaka</td>\n",
              "      <td>10:30 PM</td>\n",
              "      <td>True</td>\n",
              "      <td>True</td>\n",
              "    </tr>\n",
              "    <tr>\n",
              "      <th>203</th>\n",
              "      <td>DJ JSK</td>\n",
              "      <td>1.9</td>\n",
              "      <td>15.0</td>\n",
              "      <td>Bangladeshi</td>\n",
              "      <td>NaN</td>\n",
              "      <td>nan</td>\n",
              "      <td>True</td>\n",
              "      <td>True</td>\n",
              "    </tr>\n",
              "  </tbody>\n",
              "</table>\n",
              "</div>\n",
              "      <button class=\"colab-df-convert\" onclick=\"convertToInteractive('df-e1f44a87-259f-4d73-813a-c36019483133')\"\n",
              "              title=\"Convert this dataframe to an interactive table.\"\n",
              "              style=\"display:none;\">\n",
              "        \n",
              "  <svg xmlns=\"http://www.w3.org/2000/svg\" height=\"24px\"viewBox=\"0 0 24 24\"\n",
              "       width=\"24px\">\n",
              "    <path d=\"M0 0h24v24H0V0z\" fill=\"none\"/>\n",
              "    <path d=\"M18.56 5.44l.94 2.06.94-2.06 2.06-.94-2.06-.94-.94-2.06-.94 2.06-2.06.94zm-11 1L8.5 8.5l.94-2.06 2.06-.94-2.06-.94L8.5 2.5l-.94 2.06-2.06.94zm10 10l.94 2.06.94-2.06 2.06-.94-2.06-.94-.94-2.06-.94 2.06-2.06.94z\"/><path d=\"M17.41 7.96l-1.37-1.37c-.4-.4-.92-.59-1.43-.59-.52 0-1.04.2-1.43.59L10.3 9.45l-7.72 7.72c-.78.78-.78 2.05 0 2.83L4 21.41c.39.39.9.59 1.41.59.51 0 1.02-.2 1.41-.59l7.78-7.78 2.81-2.81c.8-.78.8-2.07 0-2.86zM5.41 20L4 18.59l7.72-7.72 1.47 1.35L5.41 20z\"/>\n",
              "  </svg>\n",
              "      </button>\n",
              "      \n",
              "  <style>\n",
              "    .colab-df-container {\n",
              "      display:flex;\n",
              "      flex-wrap:wrap;\n",
              "      gap: 12px;\n",
              "    }\n",
              "\n",
              "    .colab-df-convert {\n",
              "      background-color: #E8F0FE;\n",
              "      border: none;\n",
              "      border-radius: 50%;\n",
              "      cursor: pointer;\n",
              "      display: none;\n",
              "      fill: #1967D2;\n",
              "      height: 32px;\n",
              "      padding: 0 0 0 0;\n",
              "      width: 32px;\n",
              "    }\n",
              "\n",
              "    .colab-df-convert:hover {\n",
              "      background-color: #E2EBFA;\n",
              "      box-shadow: 0px 1px 2px rgba(60, 64, 67, 0.3), 0px 1px 3px 1px rgba(60, 64, 67, 0.15);\n",
              "      fill: #174EA6;\n",
              "    }\n",
              "\n",
              "    [theme=dark] .colab-df-convert {\n",
              "      background-color: #3B4455;\n",
              "      fill: #D2E3FC;\n",
              "    }\n",
              "\n",
              "    [theme=dark] .colab-df-convert:hover {\n",
              "      background-color: #434B5C;\n",
              "      box-shadow: 0px 1px 3px 1px rgba(0, 0, 0, 0.15);\n",
              "      filter: drop-shadow(0px 1px 2px rgba(0, 0, 0, 0.3));\n",
              "      fill: #FFFFFF;\n",
              "    }\n",
              "  </style>\n",
              "\n",
              "      <script>\n",
              "        const buttonEl =\n",
              "          document.querySelector('#df-e1f44a87-259f-4d73-813a-c36019483133 button.colab-df-convert');\n",
              "        buttonEl.style.display =\n",
              "          google.colab.kernel.accessAllowed ? 'block' : 'none';\n",
              "\n",
              "        async function convertToInteractive(key) {\n",
              "          const element = document.querySelector('#df-e1f44a87-259f-4d73-813a-c36019483133');\n",
              "          const dataTable =\n",
              "            await google.colab.kernel.invokeFunction('convertToInteractive',\n",
              "                                                     [key], {});\n",
              "          if (!dataTable) return;\n",
              "\n",
              "          const docLinkHtml = 'Like what you see? Visit the ' +\n",
              "            '<a target=\"_blank\" href=https://colab.research.google.com/notebooks/data_table.ipynb>data table notebook</a>'\n",
              "            + ' to learn more about interactive tables.';\n",
              "          element.innerHTML = '';\n",
              "          dataTable['output_type'] = 'display_data';\n",
              "          await google.colab.output.renderOutput(dataTable, element);\n",
              "          const docLink = document.createElement('div');\n",
              "          docLink.innerHTML = docLinkHtml;\n",
              "          element.appendChild(docLink);\n",
              "        }\n",
              "      </script>\n",
              "    </div>\n",
              "  </div>\n",
              "  "
            ]
          },
          "metadata": {},
          "execution_count": 88
        }
      ]
    },
    {
      "cell_type": "code",
      "source": [
        "x=df.iloc[57]['name']\n",
        "df=df.query('name!=@x')\n",
        "df.query('rating==5 & number_of_reviews>9')"
      ],
      "metadata": {
        "colab": {
          "base_uri": "https://localhost:8080/",
          "height": 316
        },
        "id": "SbuGDkhCJpDg",
        "outputId": "1802c6e5-d10b-494f-bc89-fd17f5eb9da4"
      },
      "execution_count": 89,
      "outputs": [
        {
          "output_type": "execute_result",
          "data": {
            "text/plain": [
              "                                        name  rating  number_of_reviews  \\\n",
              "137  AL-LADAK Arabian Cuisine & Party Center     5.0               22.0   \n",
              "206                        Shudha Restaurant     5.0               45.0   \n",
              "220                Sikder Hotel & Restaurant     5.0               18.0   \n",
              "224                          Maa Khabar Ghor     5.0               70.0   \n",
              "781                                La Royale     5.0               16.0   \n",
              "877                          Layers Of Fries     5.0               12.0   \n",
              "\n",
              "            type                                            address  \\\n",
              "137     Lebanese               The Royal Paradise, House 5 Rd No 74   \n",
              "206   Restaurant                                           PCM6+8RM   \n",
              "220  Bangladeshi              18 Isshar Chandra Shil Bahadur Street   \n",
              "224  Bangladeshi                 89/A/7, R.K Mission Road, Gopibagh   \n",
              "781   Restaurant  ka-15/3; Azmeri Garden- 3rd Floor Bashundhara,...   \n",
              "877   Restaurant                          Aiub university gate road   \n",
              "\n",
              "    close_time dine_in take_away  \n",
              "137      11 PM    True      True  \n",
              "206        nan    True      True  \n",
              "220        nan    True      True  \n",
              "224      12 PM    True      True  \n",
              "781      10 PM    True     False  \n",
              "877   10:30 PM    True      True  "
            ],
            "text/html": [
              "\n",
              "  <div id=\"df-418dd54d-5a38-4c4b-9264-ad53a25ae049\">\n",
              "    <div class=\"colab-df-container\">\n",
              "      <div>\n",
              "<style scoped>\n",
              "    .dataframe tbody tr th:only-of-type {\n",
              "        vertical-align: middle;\n",
              "    }\n",
              "\n",
              "    .dataframe tbody tr th {\n",
              "        vertical-align: top;\n",
              "    }\n",
              "\n",
              "    .dataframe thead th {\n",
              "        text-align: right;\n",
              "    }\n",
              "</style>\n",
              "<table border=\"1\" class=\"dataframe\">\n",
              "  <thead>\n",
              "    <tr style=\"text-align: right;\">\n",
              "      <th></th>\n",
              "      <th>name</th>\n",
              "      <th>rating</th>\n",
              "      <th>number_of_reviews</th>\n",
              "      <th>type</th>\n",
              "      <th>address</th>\n",
              "      <th>close_time</th>\n",
              "      <th>dine_in</th>\n",
              "      <th>take_away</th>\n",
              "    </tr>\n",
              "  </thead>\n",
              "  <tbody>\n",
              "    <tr>\n",
              "      <th>137</th>\n",
              "      <td>AL-LADAK Arabian Cuisine &amp; Party Center</td>\n",
              "      <td>5.0</td>\n",
              "      <td>22.0</td>\n",
              "      <td>Lebanese</td>\n",
              "      <td>The Royal Paradise, House 5 Rd No 74</td>\n",
              "      <td>11 PM</td>\n",
              "      <td>True</td>\n",
              "      <td>True</td>\n",
              "    </tr>\n",
              "    <tr>\n",
              "      <th>206</th>\n",
              "      <td>Shudha Restaurant</td>\n",
              "      <td>5.0</td>\n",
              "      <td>45.0</td>\n",
              "      <td>Restaurant</td>\n",
              "      <td>PCM6+8RM</td>\n",
              "      <td>nan</td>\n",
              "      <td>True</td>\n",
              "      <td>True</td>\n",
              "    </tr>\n",
              "    <tr>\n",
              "      <th>220</th>\n",
              "      <td>Sikder Hotel &amp; Restaurant</td>\n",
              "      <td>5.0</td>\n",
              "      <td>18.0</td>\n",
              "      <td>Bangladeshi</td>\n",
              "      <td>18 Isshar Chandra Shil Bahadur Street</td>\n",
              "      <td>nan</td>\n",
              "      <td>True</td>\n",
              "      <td>True</td>\n",
              "    </tr>\n",
              "    <tr>\n",
              "      <th>224</th>\n",
              "      <td>Maa Khabar Ghor</td>\n",
              "      <td>5.0</td>\n",
              "      <td>70.0</td>\n",
              "      <td>Bangladeshi</td>\n",
              "      <td>89/A/7, R.K Mission Road, Gopibagh</td>\n",
              "      <td>12 PM</td>\n",
              "      <td>True</td>\n",
              "      <td>True</td>\n",
              "    </tr>\n",
              "    <tr>\n",
              "      <th>781</th>\n",
              "      <td>La Royale</td>\n",
              "      <td>5.0</td>\n",
              "      <td>16.0</td>\n",
              "      <td>Restaurant</td>\n",
              "      <td>ka-15/3; Azmeri Garden- 3rd Floor Bashundhara,...</td>\n",
              "      <td>10 PM</td>\n",
              "      <td>True</td>\n",
              "      <td>False</td>\n",
              "    </tr>\n",
              "    <tr>\n",
              "      <th>877</th>\n",
              "      <td>Layers Of Fries</td>\n",
              "      <td>5.0</td>\n",
              "      <td>12.0</td>\n",
              "      <td>Restaurant</td>\n",
              "      <td>Aiub university gate road</td>\n",
              "      <td>10:30 PM</td>\n",
              "      <td>True</td>\n",
              "      <td>True</td>\n",
              "    </tr>\n",
              "  </tbody>\n",
              "</table>\n",
              "</div>\n",
              "      <button class=\"colab-df-convert\" onclick=\"convertToInteractive('df-418dd54d-5a38-4c4b-9264-ad53a25ae049')\"\n",
              "              title=\"Convert this dataframe to an interactive table.\"\n",
              "              style=\"display:none;\">\n",
              "        \n",
              "  <svg xmlns=\"http://www.w3.org/2000/svg\" height=\"24px\"viewBox=\"0 0 24 24\"\n",
              "       width=\"24px\">\n",
              "    <path d=\"M0 0h24v24H0V0z\" fill=\"none\"/>\n",
              "    <path d=\"M18.56 5.44l.94 2.06.94-2.06 2.06-.94-2.06-.94-.94-2.06-.94 2.06-2.06.94zm-11 1L8.5 8.5l.94-2.06 2.06-.94-2.06-.94L8.5 2.5l-.94 2.06-2.06.94zm10 10l.94 2.06.94-2.06 2.06-.94-2.06-.94-.94-2.06-.94 2.06-2.06.94z\"/><path d=\"M17.41 7.96l-1.37-1.37c-.4-.4-.92-.59-1.43-.59-.52 0-1.04.2-1.43.59L10.3 9.45l-7.72 7.72c-.78.78-.78 2.05 0 2.83L4 21.41c.39.39.9.59 1.41.59.51 0 1.02-.2 1.41-.59l7.78-7.78 2.81-2.81c.8-.78.8-2.07 0-2.86zM5.41 20L4 18.59l7.72-7.72 1.47 1.35L5.41 20z\"/>\n",
              "  </svg>\n",
              "      </button>\n",
              "      \n",
              "  <style>\n",
              "    .colab-df-container {\n",
              "      display:flex;\n",
              "      flex-wrap:wrap;\n",
              "      gap: 12px;\n",
              "    }\n",
              "\n",
              "    .colab-df-convert {\n",
              "      background-color: #E8F0FE;\n",
              "      border: none;\n",
              "      border-radius: 50%;\n",
              "      cursor: pointer;\n",
              "      display: none;\n",
              "      fill: #1967D2;\n",
              "      height: 32px;\n",
              "      padding: 0 0 0 0;\n",
              "      width: 32px;\n",
              "    }\n",
              "\n",
              "    .colab-df-convert:hover {\n",
              "      background-color: #E2EBFA;\n",
              "      box-shadow: 0px 1px 2px rgba(60, 64, 67, 0.3), 0px 1px 3px 1px rgba(60, 64, 67, 0.15);\n",
              "      fill: #174EA6;\n",
              "    }\n",
              "\n",
              "    [theme=dark] .colab-df-convert {\n",
              "      background-color: #3B4455;\n",
              "      fill: #D2E3FC;\n",
              "    }\n",
              "\n",
              "    [theme=dark] .colab-df-convert:hover {\n",
              "      background-color: #434B5C;\n",
              "      box-shadow: 0px 1px 3px 1px rgba(0, 0, 0, 0.15);\n",
              "      filter: drop-shadow(0px 1px 2px rgba(0, 0, 0, 0.3));\n",
              "      fill: #FFFFFF;\n",
              "    }\n",
              "  </style>\n",
              "\n",
              "      <script>\n",
              "        const buttonEl =\n",
              "          document.querySelector('#df-418dd54d-5a38-4c4b-9264-ad53a25ae049 button.colab-df-convert');\n",
              "        buttonEl.style.display =\n",
              "          google.colab.kernel.accessAllowed ? 'block' : 'none';\n",
              "\n",
              "        async function convertToInteractive(key) {\n",
              "          const element = document.querySelector('#df-418dd54d-5a38-4c4b-9264-ad53a25ae049');\n",
              "          const dataTable =\n",
              "            await google.colab.kernel.invokeFunction('convertToInteractive',\n",
              "                                                     [key], {});\n",
              "          if (!dataTable) return;\n",
              "\n",
              "          const docLinkHtml = 'Like what you see? Visit the ' +\n",
              "            '<a target=\"_blank\" href=https://colab.research.google.com/notebooks/data_table.ipynb>data table notebook</a>'\n",
              "            + ' to learn more about interactive tables.';\n",
              "          element.innerHTML = '';\n",
              "          dataTable['output_type'] = 'display_data';\n",
              "          await google.colab.output.renderOutput(dataTable, element);\n",
              "          const docLink = document.createElement('div');\n",
              "          docLink.innerHTML = docLinkHtml;\n",
              "          element.appendChild(docLink);\n",
              "        }\n",
              "      </script>\n",
              "    </div>\n",
              "  </div>\n",
              "  "
            ]
          },
          "metadata": {},
          "execution_count": 89
        }
      ]
    },
    {
      "cell_type": "markdown",
      "source": [
        "### Самые высокооцениваемые категории"
      ],
      "metadata": {
        "id": "aO3uUDITQLH-"
      }
    },
    {
      "cell_type": "code",
      "source": [
        "df.query('rating>4 & number_of_reviews>50')['type'].value_counts().sort_values(ascending=False).head(5)\\\n",
        ".plot(kind='barh', legend=False,title='Самые высокооцениваемые категории',figsize=(10,6),xlabel='Категория');"
      ],
      "metadata": {
        "colab": {
          "base_uri": "https://localhost:8080/",
          "height": 390
        },
        "id": "CuEIWNAEQKz7",
        "outputId": "74d705e1-3f35-4e4e-83c6-e57392b46e83"
      },
      "execution_count": 90,
      "outputs": [
        {
          "output_type": "display_data",
          "data": {
            "text/plain": [
              "<Figure size 720x432 with 1 Axes>"
            ],
            "image/png": "[encoded data removed]"
          },
          "metadata": {
            "needs_background": "light"
          }
        }
      ]
    },
    {
      "cell_type": "markdown",
      "source": [
        "Категория \"Ресторан\" является наиболее высокооцениваемой категорией среди всех с многрократным отрывом, далее иду \"Fast food\",\"Chinese\", \"Pizza\", \"Banladeshi\"."
      ],
      "metadata": {
        "id": "1yzcI3rNQUVS"
      }
    },
    {
      "cell_type": "markdown",
      "source": [
        "### Самые популярные рестораны"
      ],
      "metadata": {
        "id": "l85aU8QIQOAX"
      }
    },
    {
      "cell_type": "code",
      "source": [
        "df.sort_values(by='number_of_reviews',ascending = False).head(10)"
      ],
      "metadata": {
        "colab": {
          "base_uri": "https://localhost:8080/",
          "height": 494
        },
        "id": "SfvujfSpM8Hr",
        "outputId": "7fc08ea6-33da-49a3-978a-97cef468c659"
      },
      "execution_count": 91,
      "outputs": [
        {
          "output_type": "execute_result",
          "data": {
            "text/plain": [
              "                                    name  rating  number_of_reviews  \\\n",
              "30                    Star Hotel & Kabab     4.1            24623.0   \n",
              "6                Star Kabab & Restaurant     4.2            20010.0   \n",
              "54                  Chef's Table Gulshan     4.5             6873.0   \n",
              "1             Thai Chi Restaurant & Cafe     4.1             4474.0   \n",
              "67  The Manhattan FISH MARKET Bangladesh     4.2             4208.0   \n",
              "90               Four Seasons Restaurant     4.1             3778.0   \n",
              "51     Royal Cuisine Restaurant (Uttara)     3.8             3344.0   \n",
              "80            The Dining Lounge Khilgaon     3.9             3178.0   \n",
              "9                               Alfresco     4.2             2915.0   \n",
              "15         Adda Multi Cuisine Restaurant     4.0             2563.0   \n",
              "\n",
              "           type                                            address close_time  \\\n",
              "30  Bangladeshi                            22, House 16 Road No. 2        nan   \n",
              "6    Restaurant                   House\" \"15 Rd no. 17, Block\" \" C   11:30 PM   \n",
              "54   Restaurant               Level 2, Gulshan Centre Point, Rd 90      11 PM   \n",
              "1          Thai  Bijay Sarani Rangs Bhaban, Level 7, 117/A, Pur...   11:30 PM   \n",
              "67      Seafood                  Awal center, 34 Kemal Ataturk Ave      10 PM   \n",
              "90      Chinese  new, 27, House No. 59 A, Road No. 16, Old Satm...       6 PM   \n",
              "51       Buffet    Natore Tower, House#32/D/E, 14thFloor, Road\" \"3   10:30 PM   \n",
              "80   Restaurant  Shotodol Rose Heights, 373/B, Level 3, Shahid ...      11 PM   \n",
              "9    Restaurant       84, Sky Lark 11 level 9, plot no Road No. 11   10:30 PM   \n",
              "15    Pan Asian                                     House#8,Road#4      11 PM   \n",
              "\n",
              "   dine_in take_away  \n",
              "30    True       NaN  \n",
              "6     True     False  \n",
              "54    True     False  \n",
              "1    False       NaN  \n",
              "67    True      True  \n",
              "90    True       NaN  \n",
              "51    True     False  \n",
              "80    True      True  \n",
              "9     True      True  \n",
              "15    True      True  "
            ],
            "text/html": [
              "\n",
              "  <div id=\"df-9287947c-8ba1-4c90-8572-2a1f8c5ed81c\">\n",
              "    <div class=\"colab-df-container\">\n",
              "      <div>\n",
              "<style scoped>\n",
              "    .dataframe tbody tr th:only-of-type {\n",
              "        vertical-align: middle;\n",
              "    }\n",
              "\n",
              "    .dataframe tbody tr th {\n",
              "        vertical-align: top;\n",
              "    }\n",
              "\n",
              "    .dataframe thead th {\n",
              "        text-align: right;\n",
              "    }\n",
              "</style>\n",
              "<table border=\"1\" class=\"dataframe\">\n",
              "  <thead>\n",
              "    <tr style=\"text-align: right;\">\n",
              "      <th></th>\n",
              "      <th>name</th>\n",
              "      <th>rating</th>\n",
              "      <th>number_of_reviews</th>\n",
              "      <th>type</th>\n",
              "      <th>address</th>\n",
              "      <th>close_time</th>\n",
              "      <th>dine_in</th>\n",
              "      <th>take_away</th>\n",
              "    </tr>\n",
              "  </thead>\n",
              "  <tbody>\n",
              "    <tr>\n",
              "      <th>30</th>\n",
              "      <td>Star Hotel &amp; Kabab</td>\n",
              "      <td>4.1</td>\n",
              "      <td>24623.0</td>\n",
              "      <td>Bangladeshi</td>\n",
              "      <td>22, House 16 Road No. 2</td>\n",
              "      <td>nan</td>\n",
              "      <td>True</td>\n",
              "      <td>NaN</td>\n",
              "    </tr>\n",
              "    <tr>\n",
              "      <th>6</th>\n",
              "      <td>Star Kabab &amp; Restaurant</td>\n",
              "      <td>4.2</td>\n",
              "      <td>20010.0</td>\n",
              "      <td>Restaurant</td>\n",
              "      <td>House\" \"15 Rd no. 17, Block\" \" C</td>\n",
              "      <td>11:30 PM</td>\n",
              "      <td>True</td>\n",
              "      <td>False</td>\n",
              "    </tr>\n",
              "    <tr>\n",
              "      <th>54</th>\n",
              "      <td>Chef's Table Gulshan</td>\n",
              "      <td>4.5</td>\n",
              "      <td>6873.0</td>\n",
              "      <td>Restaurant</td>\n",
              "      <td>Level 2, Gulshan Centre Point, Rd 90</td>\n",
              "      <td>11 PM</td>\n",
              "      <td>True</td>\n",
              "      <td>False</td>\n",
              "    </tr>\n",
              "    <tr>\n",
              "      <th>1</th>\n",
              "      <td>Thai Chi Restaurant &amp; Cafe</td>\n",
              "      <td>4.1</td>\n",
              "      <td>4474.0</td>\n",
              "      <td>Thai</td>\n",
              "      <td>Bijay Sarani Rangs Bhaban, Level 7, 117/A, Pur...</td>\n",
              "      <td>11:30 PM</td>\n",
              "      <td>False</td>\n",
              "      <td>NaN</td>\n",
              "    </tr>\n",
              "    <tr>\n",
              "      <th>67</th>\n",
              "      <td>The Manhattan FISH MARKET Bangladesh</td>\n",
              "      <td>4.2</td>\n",
              "      <td>4208.0</td>\n",
              "      <td>Seafood</td>\n",
              "      <td>Awal center, 34 Kemal Ataturk Ave</td>\n",
              "      <td>10 PM</td>\n",
              "      <td>True</td>\n",
              "      <td>True</td>\n",
              "    </tr>\n",
              "    <tr>\n",
              "      <th>90</th>\n",
              "      <td>Four Seasons Restaurant</td>\n",
              "      <td>4.1</td>\n",
              "      <td>3778.0</td>\n",
              "      <td>Chinese</td>\n",
              "      <td>new, 27, House No. 59 A, Road No. 16, Old Satm...</td>\n",
              "      <td>6 PM</td>\n",
              "      <td>True</td>\n",
              "      <td>NaN</td>\n",
              "    </tr>\n",
              "    <tr>\n",
              "      <th>51</th>\n",
              "      <td>Royal Cuisine Restaurant (Uttara)</td>\n",
              "      <td>3.8</td>\n",
              "      <td>3344.0</td>\n",
              "      <td>Buffet</td>\n",
              "      <td>Natore Tower, House#32/D/E, 14thFloor, Road\" \"3</td>\n",
              "      <td>10:30 PM</td>\n",
              "      <td>True</td>\n",
              "      <td>False</td>\n",
              "    </tr>\n",
              "    <tr>\n",
              "      <th>80</th>\n",
              "      <td>The Dining Lounge Khilgaon</td>\n",
              "      <td>3.9</td>\n",
              "      <td>3178.0</td>\n",
              "      <td>Restaurant</td>\n",
              "      <td>Shotodol Rose Heights, 373/B, Level 3, Shahid ...</td>\n",
              "      <td>11 PM</td>\n",
              "      <td>True</td>\n",
              "      <td>True</td>\n",
              "    </tr>\n",
              "    <tr>\n",
              "      <th>9</th>\n",
              "      <td>Alfresco</td>\n",
              "      <td>4.2</td>\n",
              "      <td>2915.0</td>\n",
              "      <td>Restaurant</td>\n",
              "      <td>84, Sky Lark 11 level 9, plot no Road No. 11</td>\n",
              "      <td>10:30 PM</td>\n",
              "      <td>True</td>\n",
              "      <td>True</td>\n",
              "    </tr>\n",
              "    <tr>\n",
              "      <th>15</th>\n",
              "      <td>Adda Multi Cuisine Restaurant</td>\n",
              "      <td>4.0</td>\n",
              "      <td>2563.0</td>\n",
              "      <td>Pan Asian</td>\n",
              "      <td>House#8,Road#4</td>\n",
              "      <td>11 PM</td>\n",
              "      <td>True</td>\n",
              "      <td>True</td>\n",
              "    </tr>\n",
              "  </tbody>\n",
              "</table>\n",
              "</div>\n",
              "      <button class=\"colab-df-convert\" onclick=\"convertToInteractive('df-9287947c-8ba1-4c90-8572-2a1f8c5ed81c')\"\n",
              "              title=\"Convert this dataframe to an interactive table.\"\n",
              "              style=\"display:none;\">\n",
              "        \n",
              "  <svg xmlns=\"http://www.w3.org/2000/svg\" height=\"24px\"viewBox=\"0 0 24 24\"\n",
              "       width=\"24px\">\n",
              "    <path d=\"M0 0h24v24H0V0z\" fill=\"none\"/>\n",
              "    <path d=\"M18.56 5.44l.94 2.06.94-2.06 2.06-.94-2.06-.94-.94-2.06-.94 2.06-2.06.94zm-11 1L8.5 8.5l.94-2.06 2.06-.94-2.06-.94L8.5 2.5l-.94 2.06-2.06.94zm10 10l.94 2.06.94-2.06 2.06-.94-2.06-.94-.94-2.06-.94 2.06-2.06.94z\"/><path d=\"M17.41 7.96l-1.37-1.37c-.4-.4-.92-.59-1.43-.59-.52 0-1.04.2-1.43.59L10.3 9.45l-7.72 7.72c-.78.78-.78 2.05 0 2.83L4 21.41c.39.39.9.59 1.41.59.51 0 1.02-.2 1.41-.59l7.78-7.78 2.81-2.81c.8-.78.8-2.07 0-2.86zM5.41 20L4 18.59l7.72-7.72 1.47 1.35L5.41 20z\"/>\n",
              "  </svg>\n",
              "      </button>\n",
              "      \n",
              "  <style>\n",
              "    .colab-df-container {\n",
              "      display:flex;\n",
              "      flex-wrap:wrap;\n",
              "      gap: 12px;\n",
              "    }\n",
              "\n",
              "    .colab-df-convert {\n",
              "      background-color: #E8F0FE;\n",
              "      border: none;\n",
              "      border-radius: 50%;\n",
              "      cursor: pointer;\n",
              "      display: none;\n",
              "      fill: #1967D2;\n",
              "      height: 32px;\n",
              "      padding: 0 0 0 0;\n",
              "      width: 32px;\n",
              "    }\n",
              "\n",
              "    .colab-df-convert:hover {\n",
              "      background-color: #E2EBFA;\n",
              "      box-shadow: 0px 1px 2px rgba(60, 64, 67, 0.3), 0px 1px 3px 1px rgba(60, 64, 67, 0.15);\n",
              "      fill: #174EA6;\n",
              "    }\n",
              "\n",
              "    [theme=dark] .colab-df-convert {\n",
              "      background-color: #3B4455;\n",
              "      fill: #D2E3FC;\n",
              "    }\n",
              "\n",
              "    [theme=dark] .colab-df-convert:hover {\n",
              "      background-color: #434B5C;\n",
              "      box-shadow: 0px 1px 3px 1px rgba(0, 0, 0, 0.15);\n",
              "      filter: drop-shadow(0px 1px 2px rgba(0, 0, 0, 0.3));\n",
              "      fill: #FFFFFF;\n",
              "    }\n",
              "  </style>\n",
              "\n",
              "      <script>\n",
              "        const buttonEl =\n",
              "          document.querySelector('#df-9287947c-8ba1-4c90-8572-2a1f8c5ed81c button.colab-df-convert');\n",
              "        buttonEl.style.display =\n",
              "          google.colab.kernel.accessAllowed ? 'block' : 'none';\n",
              "\n",
              "        async function convertToInteractive(key) {\n",
              "          const element = document.querySelector('#df-9287947c-8ba1-4c90-8572-2a1f8c5ed81c');\n",
              "          const dataTable =\n",
              "            await google.colab.kernel.invokeFunction('convertToInteractive',\n",
              "                                                     [key], {});\n",
              "          if (!dataTable) return;\n",
              "\n",
              "          const docLinkHtml = 'Like what you see? Visit the ' +\n",
              "            '<a target=\"_blank\" href=https://colab.research.google.com/notebooks/data_table.ipynb>data table notebook</a>'\n",
              "            + ' to learn more about interactive tables.';\n",
              "          element.innerHTML = '';\n",
              "          dataTable['output_type'] = 'display_data';\n",
              "          await google.colab.output.renderOutput(dataTable, element);\n",
              "          const docLink = document.createElement('div');\n",
              "          docLink.innerHTML = docLinkHtml;\n",
              "          element.appendChild(docLink);\n",
              "        }\n",
              "      </script>\n",
              "    </div>\n",
              "  </div>\n",
              "  "
            ]
          },
          "metadata": {},
          "execution_count": 91
        }
      ]
    },
    {
      "cell_type": "markdown",
      "source": [
        "Два ресторана (Star Hotel & Kabab и  Star Kabab & Restaurant) имеют оценок более чем в три раза по сравнению с другими ресторанами (20к и 24.6к против следующих 6.9к и 4.5к)."
      ],
      "metadata": {
        "id": "yXHAfRPeQSKJ"
      }
    },
    {
      "cell_type": "code",
      "source": [
        "df['number_of_reviews'].describe()"
      ],
      "metadata": {
        "colab": {
          "base_uri": "https://localhost:8080/"
        },
        "id": "p8VMIUEvQ8WM",
        "outputId": "180f383e-d1a7-4fe3-91bc-dd6e9b0e0896"
      },
      "execution_count": 92,
      "outputs": [
        {
          "output_type": "execute_result",
          "data": {
            "text/plain": [
              "count      699.000000\n",
              "mean       356.859800\n",
              "std       1317.254052\n",
              "min          1.000000\n",
              "25%          8.500000\n",
              "50%         66.000000\n",
              "75%        353.000000\n",
              "max      24623.000000\n",
              "Name: number_of_reviews, dtype: float64"
            ]
          },
          "metadata": {},
          "execution_count": 92
        }
      ]
    },
    {
      "cell_type": "code",
      "source": [
        "plt.figure(figsize=(6,8))\n",
        "plt.title('Ящик с усами количества оценок')\n",
        "q=sns.boxplot(y=df['number_of_reviews'])\n",
        "q.set_ylim(bottom=0, top=3000)\n",
        "q.set_ylabel('Количество оценок');"
      ],
      "metadata": {
        "colab": {
          "base_uri": "https://localhost:8080/",
          "height": 488
        },
        "id": "52T1tqXBRhAN",
        "outputId": "fd559f0e-2861-45a8-d55b-c4cc616fe6be"
      },
      "execution_count": 93,
      "outputs": [
        {
          "output_type": "display_data",
          "data": {
            "text/plain": [
              "<Figure size 432x576 with 1 Axes>"
            ],
            "image/png": "[encoded data removed]"
          },
          "metadata": {
            "needs_background": "light"
          }
        }
      ]
    },
    {
      "cell_type": "markdown",
      "source": [
        "Большинство заведений имеют до 400 оценок."
      ],
      "metadata": {
        "id": "lfZlXMjE2qiS"
      }
    },
    {
      "cell_type": "markdown",
      "source": [
        "### Типы заведений\n"
      ],
      "metadata": {
        "id": "1pmsskZ5dw7h"
      }
    },
    {
      "cell_type": "code",
      "source": [
        "arr=df.pivot_table(index='type',values='name',aggfunc='count',).reset_index().sort_values(by='name',ascending=False).head(8)\n",
        "q=arr['type'].tolist()\n",
        "df['type1']=df['type']\n",
        "for x in range(len(df)):\n",
        "  if df['type1'].iloc[x] not in q:\n",
        "    df['type1'].iloc[x]='Other'\n",
        "g = go.Figure(data=[go.Pie(title='Типы заведений',labels=df.groupby('type1')['type1'].count().index,\\\n",
        "                           values=df.groupby('type1')['type1'].count())])\n",
        "Image.open('/content/newplot(23).png').show()"
      ],
      "metadata": {
        "colab": {
          "base_uri": "https://localhost:8080/",
          "height": 542
        },
        "id": "HX0yZzSiC9Cp",
        "outputId": "72a8add4-e007-4525-95e8-ca964a21c906"
      },
      "execution_count": 102,
      "outputs": [
        {
          "output_type": "display_data",
          "data": {
            "text/plain": [
              "<PIL.PngImagePlugin.PngImageFile image mode=RGBA size=1172x525 at 0x7FD619ABE5E0>"
            ],
            "image/png": "[encoded data removed]"
          },
          "metadata": {}
        }
      ]
    },
    {
      "cell_type": "markdown",
      "source": [
        "Более 55% заведений (491) - рестораны, далее популярными категориями являются бангладешская кухня, фаст-фуд и китайская. Категории, не входящие в топ-10, были объединены в общую категорию \"Other\". "
      ],
      "metadata": {
        "id": "RN7GkTvG1r2e"
      }
    },
    {
      "cell_type": "markdown",
      "source": [
        "### Время закрытия"
      ],
      "metadata": {
        "id": "2dNQnfQz7Q11"
      }
    },
    {
      "cell_type": "code",
      "source": [
        "arr1=df.groupby('close_time')['name'].count().reset_index().sort_values(by='name',ascending = False).head(5)\n",
        "arr1=arr1['close_time'].tolist()\n",
        "df['close_time1']=df['close_time']\n",
        "for x in range(len(df)):\n",
        "  if df['close_time1'].iloc[x] not in arr1:\n",
        "    df['close_time1'].iloc[x]='Other'\n",
        "df.pivot_table(index='close_time1',values='name',aggfunc='count').sort_values(by='name')\\\n",
        ".plot(kind='barh', legend=False,title='Нестандартное время закрытия',figsize=(10,6),xlabel='');"
      ],
      "metadata": {
        "colab": {
          "base_uri": "https://localhost:8080/",
          "height": 390
        },
        "id": "tcM23B_X3hYc",
        "outputId": "62a9a45f-c321-408d-f01d-abafe24472ed"
      },
      "execution_count": 95,
      "outputs": [
        {
          "output_type": "display_data",
          "data": {
            "text/plain": [
              "<Figure size 720x432 with 1 Axes>"
            ],
            "image/png": "[encoded data removed]"
          },
          "metadata": {
            "needs_background": "light"
          }
        }
      ]
    },
    {
      "cell_type": "markdown",
      "source": [
        "Более трети ресторанов (340) закрываются в 11 вечера, чуть менее 150 в 10:30 и в 10, также большая группа (150 заведений) закрывается в другое, более индивидуальное время, поэтому имеет категорию \"Other\""
      ],
      "metadata": {
        "id": "rCyb0jQL7PmJ"
      }
    },
    {
      "cell_type": "markdown",
      "source": [
        "### Take away"
      ],
      "metadata": {
        "id": "ENcQi1tRILuX"
      }
    },
    {
      "cell_type": "code",
      "source": [
        "df['take_away'].value_counts(dropna=False).plot(kind='bar',\\\n",
        "                                                title='Возможность забрать заказ с собой',figsize=(10,5),ylabel='Количество заведений')\n",
        "plt.xticks(rotation=0);"
      ],
      "metadata": {
        "colab": {
          "base_uri": "https://localhost:8080/",
          "height": 336
        },
        "id": "q0J7bnhyJW6A",
        "outputId": "00e62844-9116-4b0f-bb74-2c7c00d81a29"
      },
      "execution_count": 96,
      "outputs": [
        {
          "output_type": "display_data",
          "data": {
            "text/plain": [
              "<Figure size 720x360 with 1 Axes>"
            ],
            "image/png": "[encoded data removed]"
          },
          "metadata": {
            "needs_background": "light"
          }
        }
      ]
    },
    {
      "cell_type": "markdown",
      "source": [
        "В 600 заведений данная услуга есть, в 250 отсутствует. \n",
        "\n",
        "Сравним категории между собой:"
      ],
      "metadata": {
        "id": "KHIAJVE_N1Al"
      }
    },
    {
      "cell_type": "code",
      "source": [
        "away=df.query('take_away==True')\n",
        "no_away=df.query('take_away==False')\n",
        "print('Средняя оценка заведений без take away: {:.1f}'.format(no_away['rating'].mean()))\n",
        "print('Средняя оценка заведений с take away: {:.1f}'.format(away['rating'].mean()))\n",
        "print('Среднее количество оценок заведений без take away: {:.1f}'.format(no_away['number_of_reviews'].mean()))\n",
        "print('Среднее количество оценок заведений с take away: {:.1f}'.format(away['number_of_reviews'].mean()))"
      ],
      "metadata": {
        "colab": {
          "base_uri": "https://localhost:8080/"
        },
        "id": "0tsSfym2OBkY",
        "outputId": "65a4fe23-dfd1-4196-b144-17258972b5a7"
      },
      "execution_count": 97,
      "outputs": [
        {
          "output_type": "stream",
          "name": "stdout",
          "text": [
            "Средняя оценка заведений без take away: 4.1\n",
            "Средняя оценка заведений с take away: 4.0\n",
            "Среднее количество оценок заведений без take away: 478.8\n",
            "Среднее количество оценок заведений с take away: 256.4\n"
          ]
        }
      ]
    },
    {
      "cell_type": "code",
      "source": [
        "fig = go.Figure(data=[go.Pie(title='Типы заведений без take away',labels=no_away.groupby('type1')['type1'].count().index,\\\n",
        "                           values=no_away.groupby('type1')['type1'].count())])\n",
        "\n",
        "fi=go.Figure(data=[go.Pie(title='Типы заведений с take away',labels=away.groupby('type1')['type1'].count().index,\\\n",
        "                           values=away.groupby('type1')['type1'].count())])\n",
        "Image.open('/content/newplot(24).png').show()\n",
        "Image.open('/content/newplot(25).png').show()"
      ],
      "metadata": {
        "colab": {
          "base_uri": "https://localhost:8080/",
          "height": 1000
        },
        "id": "xet2x2W-RBuw",
        "outputId": "ad09c319-d3a4-4936-8ea5-976f3000e25e"
      },
      "execution_count": 103,
      "outputs": [
        {
          "output_type": "display_data",
          "data": {
            "text/plain": [
              "<PIL.PngImagePlugin.PngImageFile image mode=RGBA size=1155x525 at 0x7FD6198654C0>"
            ],
            "image/png": "[encoded data removed]"
          },
          "metadata": {}
        },
        {
          "output_type": "display_data",
          "data": {
            "text/plain": [
              "<PIL.PngImagePlugin.PngImageFile image mode=RGBA size=1155x525 at 0x7FD619865280>"
            ],
            "image/png": "[encoded data removed]"
          },
          "metadata": {}
        }
      ]
    },
    {
      "cell_type": "markdown",
      "source": [
        "Исходя из полученных данных, можно сделать вывод, что заведения без возможности забрать еду с собой отличаются от заведений с наличием такой возможности только популярностью (среднее количество оценок выше на 220 или 85%)."
      ],
      "metadata": {
        "id": "2to-nh_KKe45"
      }
    },
    {
      "cell_type": "code",
      "source": [
        "df.to_csv('df.csv')"
      ],
      "metadata": {
        "id": "w2EviH7xcGIv"
      },
      "execution_count": 100,
      "outputs": []
    },
    {
      "cell_type": "markdown",
      "source": [
        "## Результаты:"
      ],
      "metadata": {
        "id": "8lEBBoF7SKGI"
      }
    },
    {
      "cell_type": "markdown",
      "source": [
        "[Ссылка на Tableau с визуализацией](https://public.tableau.com/views/_16800939116800/Dashboard1?:language=en-US&:display_count=n&:origin=viz_share_link)"
      ],
      "metadata": {
        "id": "VR3-baF-b9Em"
      }
    },
    {
      "cell_type": "markdown",
      "source": [
        "Был проведён анализ почти тысячи заведений общепита Дакки со следующими результатами:\n",
        "\n",
        "- Большая часть оценок колеблется от 3.5 до 4.5 со средней в 4.0.\n",
        "- Выявлеены худщие и лучшие заведения по оценкам и их количеству, также\n",
        "категория \"Ресторан\" является наиболее высокооцениваемой категорией среди всех с многрократным отрывом, далее иду \"Fast food\",\"Chinese\", \"Pizza\", \"Banladeshi\"\n",
        "- найдена аномалия: Два ресторана (\"Star Hotel & Kabab\" и \"Star Kabab & Restaurant\") имеют оценок более чем в три раза по сравнению с другими ресторанами (20к и 24.6к против следующих 6.9к и 4.5к).\n",
        "- Большинство заведений имеют до 400 оценок со средним в 356\n",
        "- Более 55% заведений (491) - рестораны, далее популярными категориями являются бангладешская кухня, фаст-фуд и китайская.\n",
        "- Более трети ресторанов (340) закрываются в 11 вечера, чуть менее 150 в 10:30 и в 10, остальные в разное время\n",
        "- В 600 заведений услуга take away (забрать еду с собой) есть, в 250 отсутствует, после детального сравнения групп, разделённых по этому критерию, выяснено, что группы отличаются между собой только популярностью - среднее количество оценок выше на 220 или 85% (индекс популярности - количество оценок заведения)\n"
      ],
      "metadata": {
        "id": "Oo5JD4RbSOSq"
      }
    }
  ]
}
